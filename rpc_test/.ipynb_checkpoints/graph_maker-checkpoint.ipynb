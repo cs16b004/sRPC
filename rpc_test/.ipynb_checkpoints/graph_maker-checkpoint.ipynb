{
 "cells": [
  {
   "cell_type": "code",
   "execution_count": 95,
   "id": "e0e71d30",
   "metadata": {},
   "outputs": [],
   "source": [
    "import numpy as np\n",
    "import matplotlib.pyplot as plt\n",
    "import os\n",
    "import re"
   ]
  },
  {
   "cell_type": "code",
   "execution_count": 96,
   "id": "140ba87c",
   "metadata": {},
   "outputs": [],
   "source": [
    "def is_dpdk (fil_name):\n",
    "    match = re.search(\".*_dpdk_.*\", fil_name)\n",
    "    return bool(match)\n",
    "def is_tcp (fil_name):\n",
    "    match = re.search(\".*_tcp_.*\", fil_name)\n",
    "    return bool(match)\n",
    "def is_lat(fil_name):\n",
    "    match = re.search(\"clt.*\", fil_name)\n",
    "    return bool(match)\n",
    "def is_thr(fil_name):\n",
    "    match = re.search(\"ser.*\", fil_name)\n",
    "    return bool(match)"
   ]
  },
  {
   "cell_type": "code",
   "execution_count": 97,
   "id": "e836d4ed",
   "metadata": {},
   "outputs": [
    {
     "name": "stdout",
     "output_type": "stream",
     "text": [
      "['old1', 'request_size', 'process_latency', 'processing_time', 'incast', 'figures', 'batching', 'thread']\n"
     ]
    }
   ],
   "source": [
    "stat_files =  os.listdir('stats')\n",
    "print(stat_files)\n",
    "dpdk_stat_files = list(filter(is_dpdk,stat_files))\n",
    "\n",
    "tcp_stat_files = list(filter(is_tcp,stat_files))\n",
    "\n",
    "\n",
    "# def get_tcp_lat_files():\n",
    "#     stat_files =  os.listdir('stats')\n",
    "#     tcp_stat_files = list(filter(is_tcp,stat_files))\n",
    "#     tcp_lat_files = list(filter(is_lat,tcp_stat_files))\n",
    "#     return list(map(add_pre,tcp_lat_files))\n",
    "    \n",
    "# def get_tcp_thr_files():\n",
    "#     stat_files =  os.listdir('stats')\n",
    "#     tcp_stat_files = list(filter(is_tcp,stat_files))\n",
    "#     tcp_lat_files = list(filter(is_thr,tcp_stat_files))\n",
    "#     return list(map(add_pre,tcp_lat_files))\n",
    "\n",
    "def get_dpdk_lat_files(param):\n",
    "    if os.path.isdir('stats/'+param + '/latency/'):\n",
    "        stat_files =  os.listdir('stats/'+param + '/latency/')\n",
    "        tcp_stat_files = list(filter(is_dpdk,stat_files))\n",
    "        add_prefix = lambda x:  'stats/'+param + '/latency/' + x\n",
    "        return list(map(add_prefix,tcp_stat_files))\n",
    "    else:\n",
    "        return []\n",
    "    \n",
    "def get_dpdk_thr_files(param):\n",
    "    if os.path.isdir('stats/'+param + '/throughput/'):\n",
    "        stat_files =  os.listdir('stats/'+param + '/throughput/')\n",
    "        tcp_stat_files = list(filter(is_dpdk,stat_files))\n",
    "        add_prefix = lambda x:  'stats/'+param + '/throughput/' + x\n",
    "        return list(map(add_prefix,tcp_stat_files))\n",
    "    else:\n",
    "        return []\n"
   ]
  },
  {
   "cell_type": "code",
   "execution_count": 98,
   "id": "d39a2a85",
   "metadata": {},
   "outputs": [
    {
     "name": "stdout",
     "output_type": "stream",
     "text": [
      "['stats/batching/throughput/ser_dpdk_bat_3', 'stats/batching/throughput/ser_dpdk_bat_128', 'stats/batching/throughput/ser_dpdk_bat_256', 'stats/batching/throughput/ser_dpdk_bat_64', 'stats/batching/throughput/ser_dpdk_bat_512', 'stats/batching/throughput/ser_dpdk_bat_8', 'stats/batching/throughput/ser_dpdk_bat_16', 'stats/batching/throughput/ser_dpdk_bat_32']\n",
      "[]\n"
     ]
    }
   ],
   "source": [
    "#print(get_tcp_lat_files())\n",
    "\n",
    "#print ('-----------------------')\n",
    "#print (get_tcp_thr_files())\n",
    "\n",
    "#print ('-----------------------')\n",
    "# x = get_tcp_lat_files()\n",
    "# x.sort()\n",
    "# print (x)\n",
    "# print ('-----------------------')\n",
    "y = get_dpdk_thr_files('batching')\n",
    "#y.sort()\n",
    "print (y)\n",
    "y= get_dpdk_lat_files('request_size')\n",
    "print(y)"
   ]
  },
  {
   "cell_type": "code",
   "execution_count": 99,
   "id": "e192e8fa",
   "metadata": {},
   "outputs": [],
   "source": [
    "def extract_latency_numbers(fil_name):\n",
    "    pat = r'(\\d+\\.\\d+)$'\n",
    "    lat_numbers = []\n",
    "    with open(fil_name, \"r\") as file:\n",
    "        line = file.readline()\n",
    "        while line:\n",
    "            #print(line.strip())\n",
    "            line = file.readline()\n",
    "            match = re.search(pat, line)\n",
    "            if match:\n",
    "                lat_numbers.append( float(match.group()))\n",
    "    return lat_numbers\n",
    "def extract_throughput_numbers(fil_name):\n",
    "    pat = r'Throughput (\\d+\\.\\d+)/s$'\n",
    "    lat_numbers = []\n",
    "    with open(fil_name, \"r\") as file:\n",
    "        line = file.readline()\n",
    "        while line:\n",
    "            #print(line.strip())\n",
    "            line = file.readline()\n",
    "            match = re.search(pat, line)\n",
    "            if match:\n",
    "                lat_numbers.append( float(match.group(1)))\n",
    "    return lat_numbers\n",
    "def extract_param_numbers(fil_name):\n",
    "    pattern = r'_\\d+'\n",
    "\n",
    "# Use re.search() to find the first match\n",
    "    match = re.search(pattern, fil_name)\n",
    "\n",
    "    if match:\n",
    "        extracted_section = match.group(0)\n",
    "        extracted_section = extracted_section[1:]\n",
    "        return (extracted_section)\n",
    "    else:\n",
    "        return '0'\n",
    "def extract_med_latency_numbers(fil_name):\n",
    "    pat = r'Median Latency: (\\d+\\.\\d+)'\n",
    "    lat_numbers = []\n",
    "    with open(fil_name, \"r\") as file:\n",
    "        line = file.readline()\n",
    "        while line:\n",
    "            #print(line.strip())\n",
    "            line = file.readline()\n",
    "            match = re.search(pat, line)\n",
    "            if match:\n",
    "                lat_numbers.append( float(match.group(1))/1000.0)\n",
    "    return np.array(lat_numbers)\n",
    "\n",
    "def extract_9999_latency_numbers(fil_name):\n",
    "    pat = r'99\\.99th: (\\d+\\.\\d+)'\n",
    "    lat_numbers = []\n",
    "    with open(fil_name, \"r\") as file:\n",
    "        line = file.readline()\n",
    "        while line:\n",
    "            #print(line.strip())\n",
    "            line = file.readline()\n",
    "            match = re.search(pat, line)\n",
    "            if match:\n",
    "                lat_numbers.append( float(match.group(1))/1000.0)\n",
    "    return np.array(lat_numbers)\n"
   ]
  },
  {
   "cell_type": "code",
   "execution_count": 100,
   "id": "b3ffc268",
   "metadata": {},
   "outputs": [],
   "source": [
    "def create_throuput_figures(param):\n",
    "    dpdk_thr_files = get_dpdk_thr_files(param)\n",
    "    print(dpdk_thr_files)\n",
    "    dpdk_thr_num = []\n",
    "    dpdk_param_num = []\n",
    "    for fil in dpdk_thr_files:\n",
    "        \n",
    "        dpdk_thr_num.append(np.array(extract_throughput_numbers(fil)).max())\n",
    "        dpdk_param_num.append(int(extract_param_numbers(fil)))\n",
    "    if param == 'request_size':\n",
    "        for i in range(len(dpdk_thr_num)):\n",
    "            dpdk_thr_num[i] = dpdk_thr_num[i]*dpdk_param_num[i]/ (1024*1024)\n",
    "        print(dpdk_thr_num)\n",
    "        print(dpdk_param_num)\n",
    "        plt.scatter(dpdk_param_num,dpdk_thr_num,label='Throughput Graph DPDK : '+ param)\n",
    "        plt.xlabel(param + '-size')\n",
    "        plt.ylabel('Throuput in MBs per second')\n",
    "        #plt.xticks(np.arange(0, max(dpdk_param_num) + 2, 1))\n",
    "        plt.legend()\n",
    "        plt.grid(which = \"both\", linewidth=0.5)\n",
    "        plt.savefig('stats/figures/dpdk-figure-thr-'+param+'.png')    \n",
    "        plt.close()\n",
    "    else:\n",
    "        print(dpdk_thr_num)\n",
    "        print(dpdk_param_num)\n",
    "        plt.scatter(dpdk_param_num,dpdk_thr_num,label='Throughput Graph DPDK : '+ param)\n",
    "        plt.xlabel(param + '-size')\n",
    "        plt.ylabel('Throuput in RPCs per second')\n",
    "        #plt.xticks(np.arange(min(dpdk_param_num), max(dpdk_param_num) + 2, ())\n",
    "        plt.legend()\n",
    "        plt.grid(which = \"both\", linewidth=0.5)\n",
    "        plt.savefig('stats/figures/dpdk-figure-thr-'+param+'.png')\n",
    "        plt.close()\n",
    "    \n",
    "        "
   ]
  },
  {
   "cell_type": "code",
   "execution_count": 101,
   "id": "f0ed664f",
   "metadata": {},
   "outputs": [
    {
     "name": "stdout",
     "output_type": "stream",
     "text": [
      "['stats/request_size/throughput/ser_dpdk_req_256', 'stats/request_size/throughput/ser_dpdk_req_1024', 'stats/request_size/throughput/ser_dpdk_req_1344', 'stats/request_size/throughput/ser_dpdk_req_512', 'stats/request_size/throughput/ser_dpdk_req_64']\n",
      "[84.03408203125, 337.133984375, 438.703125, 168.0484375, 21.47900390625]\n",
      "[256, 1024, 1344, 512, 64]\n",
      "['stats/batching/throughput/ser_dpdk_bat_3', 'stats/batching/throughput/ser_dpdk_bat_128', 'stats/batching/throughput/ser_dpdk_bat_256', 'stats/batching/throughput/ser_dpdk_bat_64', 'stats/batching/throughput/ser_dpdk_bat_512', 'stats/batching/throughput/ser_dpdk_bat_8', 'stats/batching/throughput/ser_dpdk_bat_16', 'stats/batching/throughput/ser_dpdk_bat_32']\n",
      "[56281.2, 169399.2, 172216.4, 152028.4, 170416.0, 95717.6, 119208.4, 137479.2]\n",
      "[3, 128, 256, 64, 512, 8, 16, 32]\n",
      "['stats/incast/throughput/ser_dpdk_inc_16', 'stats/incast/throughput/ser_dpdk_inc_4', 'stats/incast/throughput/ser_dpdk_inc_24', 'stats/incast/throughput/ser_dpdk_inc_8', 'stats/incast/throughput/ser_dpdk_inc_1']\n",
      "[180120.8, 178513.2, 199405.6, 180566.8, 56179.2]\n",
      "[16, 4, 24, 8, 1]\n",
      "['stats/thread/throughput/ser_dpdk_thr_4', 'stats/thread/throughput/ser_dpdk_thr_16', 'stats/thread/throughput/ser_dpdk_thr_8', 'stats/thread/throughput/ser_dpdk_thr_1', 'stats/thread/throughput/ser_dpdk_thr_24']\n",
      "[207904.4, 311281.2, 202344.4, 153816.0, 280940.4]\n",
      "[4, 16, 8, 1, 24]\n"
     ]
    }
   ],
   "source": [
    "create_throuput_figures('request_size')\n",
    "create_throuput_figures('batching')\n",
    "create_throuput_figures('incast')\n",
    "create_throuput_figures('thread')"
   ]
  },
  {
   "cell_type": "code",
   "execution_count": 106,
   "id": "aed82f66",
   "metadata": {
    "scrolled": false
   },
   "outputs": [],
   "source": [
    "def create_latency_figures(param):\n",
    "    med_nums = []\n",
    "    med_errors = []\n",
    "    per_9999_nums = []\n",
    "    per_9999_errors = []\n",
    "    dpdk_param_num = [] \n",
    "    for fil in get_dpdk_lat_files(param):\n",
    "        med_latencies = extract_med_latency_numbers(fil)\n",
    "        per_9999_latencies = extract_9999_latency_numbers(fil)\n",
    "    \n",
    "        med_nums.append(np.mean(med_latencies))\n",
    "        med_errors.append(np.std(med_latencies))\n",
    "        per_9999_nums.append(per_9999_latencies.mean())\n",
    "        per_9999_errors.append(np.std(per_9999_latencies))\n",
    "        \n",
    "    \n",
    "        dpdk_param_num.append(int(extract_param_numbers(fil)))\n",
    "    plt.scatter(dpdk_param_num,med_nums,label='Latency DPDK Median : '+ param)\n",
    "    plt.scatter(dpdk_param_num,per_9999_nums, label = 'Latency DPDK 99.99th')\n",
    "    print(per_9999_errors)\n",
    "    plt.xlabel(param + '-size')\n",
    "    plt.ylabel('Latency in Micro seconds')\n",
    "    #plt.xticks(np.arange(0, max(dpdk_param_num) + 2, 1))\n",
    "    plt.legend()\n",
    "    plt.grid(which = \"both\", linewidth=0.5)\n",
    "    plt.savefig('stats/figures/dpdk-figure-lat-'+param+'.png')    \n",
    "    plt.close()\n",
    "    "
   ]
  },
  {
   "cell_type": "code",
   "execution_count": 108,
   "id": "6e80c50e",
   "metadata": {},
   "outputs": [
    {
     "name": "stdout",
     "output_type": "stream",
     "text": [
      "[7117.06961411341, 6174.403655040398, 42078.00598469502, 6775.20173564362, 1296.1301151981258]\n",
      "[1485.6658464608624, 869.3798249798315, 1429.7782119946899, 936.1792082611158, 187.1802339244114, 2016.588521861967, 950.2577544205128]\n"
     ]
    }
   ],
   "source": [
    "create_latency_figures('thread')\n",
    "create_latency_figures('batching')"
   ]
  }
 ],
 "metadata": {
  "kernelspec": {
   "display_name": "Python 3 (ipykernel)",
   "language": "python",
   "name": "python3"
  },
  "language_info": {
   "codemirror_mode": {
    "name": "ipython",
    "version": 3
   },
   "file_extension": ".py",
   "mimetype": "text/x-python",
   "name": "python",
   "nbconvert_exporter": "python",
   "pygments_lexer": "ipython3",
   "version": "3.10.13"
  }
 },
 "nbformat": 4,
 "nbformat_minor": 5
}
